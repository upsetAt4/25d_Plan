{
 "cells": [
  {
   "cell_type": "code",
   "execution_count": null,
   "metadata": {},
   "outputs": [],
   "source": [
    "import pandas as pd\n",
    "df = pd.read_csv(\"..\\\\twitter_clean_between.csv\")\n",
    "dt=df.sample(n=100)"
   ]
  },
  {
   "cell_type": "code",
   "execution_count": 37,
   "metadata": {},
   "outputs": [],
   "source": [
    "import pandas as pd\n",
    "dateparse = lambda x: pd.datetime.strptime(x, '%Y-%m-%d %H:%M:%S')\n",
    "df = pd.read_csv(\"..\\\\sample_clean.csv\",parse_dates=['datetime'], date_parser=dateparse)\n",
    "df['date'] = df['datetime'].dt.date\n",
    "#df.sort_index(by = [\"datetime\"],ascending = [False],inplace=True)  \n",
    "#df.to_csv(\"order2.csv\",index=0)"
   ]
  },
  {
   "cell_type": "code",
   "execution_count": 25,
   "metadata": {},
   "outputs": [],
   "source": [
    "import pandas as pd\n",
    "df = pd.DataFrame({'A': {0: '2017-12-05', 1: '2018-02-05', 2: '2018-01-05', 3: '2018-01-15'}, \n",
    "                   'B': {0: 1, 1: 1, 2: 2, 3: 2},\n",
    "                   'C': {0: 1, 1: 3, 2: 1, 3: 3},\n",
    "                   'D': {0: 1, 1: 2, 2: 3, 3: 4}})"
   ]
  },
  {
   "cell_type": "code",
   "execution_count": 38,
   "metadata": {},
   "outputs": [],
   "source": [
    "def typicalsamling(group):\n",
    "    return group.sample(n=100)\n",
    " \n",
    "result=df.groupby('date',group_keys=False).apply(typicalsamling)\n"
   ]
  },
  {
   "cell_type": "code",
   "execution_count": 39,
   "metadata": {},
   "outputs": [
    {
     "name": "stderr",
     "output_type": "stream",
     "text": [
      "D:\\Anaconda3\\lib\\site-packages\\ipykernel_launcher.py:1: FutureWarning: by argument to sort_index is deprecated, please use .sort_values(by=...)\n",
      "  \"\"\"Entry point for launching an IPython kernel.\n"
     ]
    }
   ],
   "source": [
    "result.sort_index(by = [\"date\"],ascending = [True],inplace=True)  \n",
    "result.to_csv(\"all_抽样结果.csv\",index=0)"
   ]
  },
  {
   "cell_type": "code",
   "execution_count": 40,
   "metadata": {},
   "outputs": [],
   "source": [
    "df = pd.read_csv(\"all_抽样结果.csv\")\n",
    "df.to_csv(\"text\",index=0,columns=['text'])"
   ]
  },
  {
   "cell_type": "code",
   "execution_count": 42,
   "metadata": {},
   "outputs": [],
   "source": [
    "import pandas as pd\n",
    "#time.mktime(time.strptime(st, \"%Y-%m-%d %H:%M:%S\"))\n",
    "#dateparse = lambda x: pd.datetime.mktime(x, '%Y-%m-%d %H:%M:%S')\n",
    "df = pd.read_csv(\"all_抽样结果.csv\")\n",
    "\n",
    "import time\n",
    "df['timestamp'] = df['datetime'].apply(lambda x:int(time.mktime(time.strptime(x,'%Y-%m-%d %H:%M:%S'))))\n",
    "df.to_csv(\"time\",index=0,columns=['timestamp'])"
   ]
  },
  {
   "cell_type": "code",
   "execution_count": null,
   "metadata": {},
   "outputs": [],
   "source": []
  }
 ],
 "metadata": {
  "kernelspec": {
   "display_name": "Python 3",
   "language": "python",
   "name": "python3"
  },
  "language_info": {
   "codemirror_mode": {
    "name": "ipython",
    "version": 3
   },
   "file_extension": ".py",
   "mimetype": "text/x-python",
   "name": "python",
   "nbconvert_exporter": "python",
   "pygments_lexer": "ipython3",
   "version": "3.7.3"
  }
 },
 "nbformat": 4,
 "nbformat_minor": 2
}
