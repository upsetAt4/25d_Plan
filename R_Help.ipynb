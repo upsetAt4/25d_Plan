{
 "cells": [
  {
   "cell_type": "code",
   "execution_count": 1,
   "metadata": {},
   "outputs": [],
   "source": [
    "?rnorm\n",
    "#帮助文件"
   ]
  },
  {
   "cell_type": "code",
   "execution_count": 2,
   "metadata": {},
   "outputs": [
    {
     "name": "stderr",
     "output_type": "stream",
     "text": [
      "starting httpd help server ... done\n"
     ]
    },
    {
     "data": {},
     "metadata": {},
     "output_type": "display_data"
    }
   ],
   "source": [
    "help.search(\"rnorm\")\n",
    "#在帮助文件中进行查找（速度有点慢？）"
   ]
  },
  {
   "cell_type": "code",
   "execution_count": 3,
   "metadata": {},
   "outputs": [
    {
     "data": {
      "text/html": [
       "<pre class=language-r><code>function (n, mean = 0, sd = 1) \n",
       "NULL</code></pre>"
      ],
      "text/latex": [
       "\\begin{minted}{r}\n",
       "function (n, mean = 0, sd = 1) \n",
       "NULL\n",
       "\\end{minted}"
      ],
      "text/markdown": [
       "```r\n",
       "function (n, mean = 0, sd = 1) \n",
       "NULL\n",
       "```"
      ],
      "text/plain": [
       "function (n, mean = 0, sd = 1) \n",
       "NULL"
      ]
     },
     "metadata": {},
     "output_type": "display_data"
    }
   ],
   "source": [
    "args(\"rnorm\")\n",
    "#获取一个函数的自变量"
   ]
  },
  {
   "cell_type": "code",
   "execution_count": 4,
   "metadata": {},
   "outputs": [
    {
     "data": {
      "text/html": [
       "<pre class=language-r><code>function (n, mean = 0, sd = 1) \n",
       ".Call(C_rnorm, n, mean, sd)</code></pre>"
      ],
      "text/latex": [
       "\\begin{minted}{r}\n",
       "function (n, mean = 0, sd = 1) \n",
       ".Call(C\\_rnorm, n, mean, sd)\n",
       "\\end{minted}"
      ],
      "text/markdown": [
       "```r\n",
       "function (n, mean = 0, sd = 1) \n",
       ".Call(C_rnorm, n, mean, sd)\n",
       "```"
      ],
      "text/plain": [
       "function (n, mean = 0, sd = 1) \n",
       ".Call(C_rnorm, n, mean, sd)\n",
       "<bytecode: 0x0000000028180d10>\n",
       "<environment: namespace:stats>"
      ]
     },
     "metadata": {},
     "output_type": "display_data"
    }
   ],
   "source": [
    "rnorm\n",
    "#输入函数名，重现整段代码"
   ]
  },
  {
   "cell_type": "code",
   "execution_count": null,
   "metadata": {},
   "outputs": [],
   "source": []
  }
 ],
 "metadata": {
  "kernelspec": {
   "display_name": "R",
   "language": "R",
   "name": "ir"
  },
  "language_info": {
   "codemirror_mode": "r",
   "file_extension": ".r",
   "mimetype": "text/x-r-source",
   "name": "R",
   "pygments_lexer": "r",
   "version": "3.5.1"
  }
 },
 "nbformat": 4,
 "nbformat_minor": 2
}
